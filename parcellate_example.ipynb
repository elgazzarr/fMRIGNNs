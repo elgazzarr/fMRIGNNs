{
 "cells": [
  {
   "cell_type": "code",
   "execution_count": 2,
   "id": "2e5f4164",
   "metadata": {},
   "outputs": [],
   "source": [
    "import pandas as pd \n",
    "import numpy as np\n",
    "from nilearn import input_data\n",
    "from nilearn import datasets\n",
    "from nilearn.input_data import NiftiLabelsMasker\n",
    "import glob\n",
    "from tqdm import tqdm\n",
    "from nilearn.connectome import ConnectivityMeasure\n",
    "import os"
   ]
  },
  {
   "cell_type": "code",
   "execution_count": 3,
   "id": "b5801561",
   "metadata": {},
   "outputs": [],
   "source": [
    "dataset = datasets.fetch_atlas_harvard_oxford('cort-maxprob-thr25-2mm', symmetric_split= True)\n",
    "atlas_filename = dataset.maps\n",
    "labels = dataset.labels[1:]\n",
    "masker_cor = NiftiLabelsMasker(labels_img=atlas_filename, standardize=True,\n",
    "                           memory='nilearn_cache', verbose=0)\n",
    "\n",
    "# create masker for HO subcortical\n",
    "dataset = datasets.fetch_atlas_harvard_oxford('sub-maxprob-thr25-2mm', symmetric_split= True)\n",
    "atlas_filename = dataset.maps\n",
    "labels_s = dataset.labels[1:]\n",
    "\n",
    "masker_sub = NiftiLabelsMasker(labels_img=atlas_filename, standardize=True,\n",
    "                           memory='nilearn_cache', verbose=0)"
   ]
  },
  {
   "cell_type": "code",
   "execution_count": 9,
   "id": "3e719a61",
   "metadata": {},
   "outputs": [
    {
     "name": "stderr",
     "output_type": "stream",
     "text": [
      " 16%|████████████████████████▏                                                                                                                           | 197/1207 [21:11<1:45:15,  6.25s/it]/data/agelgazzar/anaconda3/envs/ssm/lib/python3.9/site-packages/nilearn/maskers/nifti_labels_masker.py:492: UserWarning: Persisting input arguments took 0.55s to run.\n",
      "If this happens often in your code, it can cause performance problems \n",
      "(results will be correct in all cases). \n",
      "The reason for this is probably some large input arguments for a wrapped\n",
      " function (e.g. large strings).\n",
      "THIS IS A JOBLIB ISSUE. If you can, kindly provide the joblib's team with an\n",
      " example so that they can fix the problem.\n",
      "  region_signals, labels_ = self._cache(\n",
      "100%|███████████████████████████████████████████████████████████████████████████████████████████████████████████████████████████████████████████████████| 1207/1207 [2:09:21<00:00,  6.43s/it]\n"
     ]
    }
   ],
   "source": [
    "df = pd.read_csv('csvfiles/abide.csv')\n",
    "\n",
    "\n",
    "atlas_name = 'HO_sub'\n",
    "for i in tqdm(range(len(df))):\n",
    "    fmri_filename = df['RSFMRI_file'].iloc[i]\n",
    "    sub_path = df['tc_file'].iloc[i].replace('ATLAS', atlas_name).replace('/timecourse.csv', '')\n",
    "    if not os.path.isdir(sub_path):\n",
    "        os.makedirs(sub_path)\n",
    "\n",
    "        # extract timeseries and concatenate them\n",
    "        time_series_c = masker_cor.fit_transform(fmri_filename)\n",
    "        time_series_s = masker_sub.fit_transform(fmri_filename)\n",
    "        tc = np.concatenate((time_series_c,time_series_s), 1)\n",
    "\n",
    "\n",
    "\n",
    "        correlation_measure = ConnectivityMeasure(kind='correlation')\n",
    "        cc = correlation_measure.fit_transform([tc])[0]\n",
    "\n",
    "        np.save(sub_path+'/tc.npy',tc)\n",
    "        np.save(sub_path+'/cc.npy',cc)"
   ]
  }
 ],
 "metadata": {
  "kernelspec": {
   "display_name": "Python 3 (ipykernel)",
   "language": "python",
   "name": "python3"
  },
  "language_info": {
   "codemirror_mode": {
    "name": "ipython",
    "version": 3
   },
   "file_extension": ".py",
   "mimetype": "text/x-python",
   "name": "python",
   "nbconvert_exporter": "python",
   "pygments_lexer": "ipython3",
   "version": "3.9.7"
  }
 },
 "nbformat": 4,
 "nbformat_minor": 5
}
